{
 "cells": [
  {
   "cell_type": "markdown",
   "id": "a2ce0615",
   "metadata": {},
   "source": [
    "Question 1\n",
    "\n",
    "A hypothesis needs to be statistically testable, which means the data we are collecting can be objectively measured and quantified. Other than being testable, a good null hypothesis also needs to precisely state that there's no effect or difference between the variables which are going to be tested. Furthermore, a null hypothesis needs to be falsifiable such that it can be rejected as most of the time that is what the scientists are aiming for. The null hypothesis is the statement of \"no effect\" whereas the alternative hypothesis suggests the exact opposite of the null hypothesis (all other outcomes that is not covered by the null hypothesis). The null hypothesis is denoted as H0 and the alternative is denoted as Ha or H1."
   ]
  },
  {
   "cell_type": "markdown",
   "id": "7213329a",
   "metadata": {},
   "source": [
    "Question 2\n",
    "\n",
    "xi represents an individual datapoint in the sample dataset, where i represents the \"i-th\" data point. x̅ represents the mean of all the datapoints in the sample dataset extracted from the whole population and μ represents the mean of the whole population, which is often unknown and our aim is to give a reasonable estimation. μ0 is the hypothesized population mean stated in the null hypothesis, and if μ0=μ, then we failed to reject the null hypothesis.\n",
    "\n",
    "Summary - STA130 Overview: We began with a discussion of STA130 at the University of Toronto, which is an introductory statistics course. I outlined key topics covered in the course, such as descriptive statistics, probability, hypothesis testing, and regression.\n",
    "\n",
    "Hypothesis Testing (Video): You referred to a pre-lecture video on hypothesis testing, and I explained the key factor that makes an idea testable (it must be measurable and objective). We also discussed the criteria for a good null hypothesis (specific, testable, and refutable) and the difference between a null hypothesis (assumes no effect) and an alternative hypothesis (suggests an effect).\n",
    "\n",
    "Population vs. Sample (Video): You asked about a statement from the video related to test outcomes referring to population parameters. I explained how sample statistics (xi, x̅) are used to estimate population parameters (μ, μ0), but the conclusions of a statistical test apply to the population as a whole, rather than just the sample.\n",
    "\n",
    "https://chatgpt.com/share/670c9de4-766c-8004-9887-44961d38be7b"
   ]
  },
  {
   "cell_type": "markdown",
   "id": "71c75a2e",
   "metadata": {},
   "source": [
    "Question 3\n",
    "\n",
    "The p value is a measure of the probability that tells us how far our actual observed result is from what we would expect in the hypothesized world where the null hypothesis is correct. A very low p value (p=0.05) suggests that the obtained result does not fit in the hypothesized world, thus the null hypothesis is rejected. We fail to reject the null hypothesis (H₀) when the p-value is greater than or equal to a the significance level."
   ]
  },
  {
   "cell_type": "markdown",
   "id": "8dfdcb30",
   "metadata": {},
   "source": [
    "Question 4\n",
    "\n",
    "As mentioned above, the p value is the probability of how likely that our observed result is going to occur in the imaginary world where the null hypothesis is set to be true. That being said, the smaller the p value is, the less believable the assumption is. Since a very small p value suggest that our observed result is highly unlikely to occur under the assumption of the null hypothesis being true, it makes sense for us to reject the assumption or the null hypothesis.\n",
    "\n",
    "Summary - Second Pre-Lecture Video (P-Value): You brought up a second pre-lecture video on p-values. I explained why we assume the null hypothesis is true when calculating a p-value, and how the p-value measures how likely it is to observe our data if the null hypothesis were correct. The relevance of the sampling distribution was also discussed.\n",
    "\n",
    "Smaller P-Value and Null Hypothesis: Lastly, we discussed why a smaller p-value makes the null hypothesis seem \"more ridiculous.\" I explained that a small p-value indicates that our data is very unlikely under the null hypothesis, making it harder to believe the null is true, which leads us to consider rejecting it.\n",
    "\n",
    "https://chatgpt.com/share/670c9de4-766c-8004-9887-44961d38be7b"
   ]
  },
  {
   "cell_type": "code",
   "execution_count": 1,
   "id": "e0991021",
   "metadata": {},
   "outputs": [
    {
     "data": {
      "text/plain": [
       "0.0016"
      ]
     },
     "execution_count": 1,
     "metadata": {},
     "output_type": "execute_result"
    }
   ],
   "source": [
    "#Question 5\n",
    "\n",
    "import numpy as np\n",
    "\n",
    "# Number of couples\n",
    "n_couples = 124\n",
    "\n",
    "# Number of right tilts observed in the real data\n",
    "observed_right_tilts = 80\n",
    "\n",
    "# Number of simulations\n",
    "n_simulations = 10000\n",
    "\n",
    "# Simulate 10,000 samples of 124 coin flips (50% chance of tilting right)\n",
    "simulated_right_tilts = np.random.binomial(n=n_couples, p=0.5, size=n_simulations)\n",
    "\n",
    "# Calculate the proportion of simulations where the number of right tilts is greater than or equal to 80\n",
    "p_value = np.mean(simulated_right_tilts >= observed_right_tilts)\n",
    "\n",
    "p_value"
   ]
  },
  {
   "cell_type": "markdown",
   "id": "13e21ccf",
   "metadata": {},
   "source": [
    "Question 5 Cont.\n",
    "\n",
    "Null hypothesis (H₀): Couples have a 50/50 chance of tilting their heads right or left when kissing (no preference for either side).\n",
    "\n",
    "∵ p value = 0.0016\n",
    "0.01 ≥ 0.0016 > 0.001\n",
    "\n",
    "∴ Strong evidence against the null hypothesis\n",
    "\n",
    "Summary - Güntürkün (2003) Study Simulation: You brought up a study by Güntürkün (2003) regarding head tilting in kissing couples. I outlined how to simulate a p-value using a \"50/50 coin-flipping\" model to test the null hypothesis that there is no head-tilt tendency. I provided a Python code example for running the simulation and explained how to interpret the p-value based on a defined table.\n",
    "\n",
    "https://chatgpt.com/share/670c9de4-766c-8004-9887-44961d38be7b"
   ]
  },
  {
   "cell_type": "markdown",
   "id": "8430292e",
   "metadata": {},
   "source": [
    "Question 6\n",
    "\n",
    "A small p value can never definitively disprove the null hypothesis nor can a p value that's close to 1 definitively proves the null hypothesis. A p value only provides evidence that's in favor of or against a null hypothesis and it does not provides a conclusion. No matter how strong the evidence is, there's always a chance of error. Hence, in real world data analysis, the p value will not be exactly 0 or exactly 1."
   ]
  },
  {
   "cell_type": "code",
   "execution_count": 2,
   "id": "74e09a88",
   "metadata": {},
   "outputs": [
    {
     "name": "stdout",
     "output_type": "stream",
     "text": [
      "Number of Simulations:  10000\n",
      "Observed statistic (proportion of patients with health improvement): 0.8\n",
      "Number of simulated statistics (under H0) that are as or more extreme than the observed statistic: 565\n",
      "P-value (one-sided test): 0.0565\n"
     ]
    }
   ],
   "source": [
    "# Question 7\n",
    "\n",
    "import pandas as pd\n",
    "import numpy as np\n",
    "\n",
    "# Sample patient data\n",
    "patient_data = pd.DataFrame({\n",
    "    \"PatientID\": [1, 2, 3, 4, 5, 6, 7, 8, 9, 10],\n",
    "    \"Age\": [45, 34, 29, 52, 37, 41, 33, 48, 26, 39],\n",
    "    \"Gender\": [\"M\", \"F\", \"M\", \"F\", \"M\", \"F\", \"M\", \"F\", \"M\", \"F\"],\n",
    "    \"InitialHealthScore\": [84, 78, 83, 81, 81, 80, 79, 85, 76, 83],\n",
    "    \"FinalHealthScore\": [86, 86, 80, 86, 84, 86, 86, 82, 83, 84]\n",
    "})\n",
    "\n",
    "# Calculate health score change\n",
    "patient_data['HealthScoreChange'] = patient_data['FinalHealthScore'] - patient_data['InitialHealthScore']\n",
    "\n",
    "# Set the random seed for reproducibility\n",
    "np.random.seed(1)\n",
    "\n",
    "# Number of simulations\n",
    "number_of_simulations = 10000\n",
    "\n",
    "# Observed statistic (proportion of patients who improved their health score)\n",
    "observed_statistic = (patient_data['HealthScoreChange'] > 0).mean()\n",
    "\n",
    "# Simulating the null hypothesis (no effect of the vaccine)\n",
    "IncreaseProportionSimulations_underH0random = np.zeros(number_of_simulations)\n",
    "\n",
    "for i in range(number_of_simulations):\n",
    "    # Generate random health score change signs (0 = no improvement, 1 = improvement)\n",
    "    random_improvement = np.random.choice([0, 1], size=len(patient_data), replace=True)\n",
    "    IncreaseProportionSimulations_underH0random[i] = random_improvement.mean()\n",
    "\n",
    "# Calculate the p-value for a one-sided test (testing for improvements only)\n",
    "SimStats_as_or_more_extreme_than_ObsStat = IncreaseProportionSimulations_underH0random >= observed_statistic\n",
    "p_value = SimStats_as_or_more_extreme_than_ObsStat.sum() / number_of_simulations\n",
    "\n",
    "# Output the results\n",
    "print(\"Number of Simulations: \", number_of_simulations)\n",
    "print(\"Observed statistic (proportion of patients with health improvement):\", observed_statistic)\n",
    "print(\"Number of simulated statistics (under H0) that are as or more extreme than the observed statistic:\", SimStats_as_or_more_extreme_than_ObsStat.sum())\n",
    "print(\"P-value (one-sided test):\", p_value)\n"
   ]
  },
  {
   "cell_type": "markdown",
   "id": "357a661f",
   "metadata": {},
   "source": [
    "Question 7\n",
    "\n",
    "Instead of checking both the possibility of the observed result being larger than the null hypothesis population parameter and the possibility of the observed result being smaller than the null hypothesis population parameter, a one-sided only check from one direction which means either larger or smaller. It is expected for the p value to be smaller in a one-tailed test compared to a two-tailed test because we only focuses on the extreme values on one direction. In order to change into a one-sided hypothesis test, we eliminate the use of abs function as the code only needs check if the simulated statistics are greater than or equal to the observed statistic using (simulated_statistics >= observed_statistic).\n",
    "\n",
    "Summary - Two-Sided vs. One-Sided Tests: We explored the difference between one-sided (one-tailed) and two-sided (two-tailed) hypothesis tests. You requested help in adjusting Python code from a Week 5 tutorial to compute a p-value for a one-sided test rather than a two-sided one.\n",
    "\n",
    "Vaccine Data Analysis: I provided a complete Python code that simulates p-values for a one-sided hypothesis test, based on vaccine data. This code calculates how many simulated statistics are greater than or equal to the observed statistic, which is key in a one-sided test.\n",
    "\n",
    "https://chatgpt.com/share/670c9de4-766c-8004-9887-44961d38be7b"
   ]
  },
  {
   "cell_type": "markdown",
   "id": "3ead7a67",
   "metadata": {},
   "source": [
    "Question 8\n",
    "\n",
    "Relationship between this experiment and fisher’s original experiment: The sample of the original experiment is the number of cups of milktea (8). Instead, the sample of the replication is the number of STA130 students (80). This distinguishs the purpose of the two experiment as the original experiment primarily focuses on an inidividual's (Bristol's) ability in identifying whether tea or milk was poured first and the replication extented to the bondary of the population.\n",
    "\n",
    "Formal null hypothesis: There is no significant difference between the STA130 students and random guessing in identifying whether tea or milk was poured first. H0:p=0.5 (p is the proportion of students who can correctly identify the order in the population parameter)\n",
    "\n",
    "Informal null hypothesis: The STA130 students' ability to identify whether tea or milk was poured first is fifty fifty because they have no ability to tell the difference and they are getting it right completely due to chance.\n",
    "\n",
    "Formal alternative hypothesis: The STA130 students and random guessing in identifying whether tea or milk was poured first shows statistically significant difference where the STA130 students are better in this case. Ha:p>0\n",
    "\n",
    "Population: All STA130 students or people who drink milktea in general.\n",
    "\n",
    "Sample: 80 STA130 students (49 of which correctly idenitifed the order)\n",
    "\n",
    "Parameter of interest: the proportion of the population who can correctly identify the order\n",
    "\n",
    "Corresponding Observed Test Statistic: proportion of the 80 STA130 students who can correctly identify the order (0.6125)\n",
    "\n",
    "Methodology: We generate a large number of samples (10000) and set the probability of correct guess to be 0.5 which makes this simulation to be run under the null hypothesis. This simulation gives us the proportion of correct answers under the null hypothesis. Then we can compare how many simulated proportions are as extreme or more extreme than the observed proportion of 0.6125 and the code will print the p value.\n",
    "\n",
    "Conclusion: The p value is 0.0294 which is between 0.05 and 0.01 (0.05 ≥ 0.0294 > 0.01), suggesting moderate evidence against the null hypothesis, concluding that students might be able to identify the order."
   ]
  },
  {
   "cell_type": "code",
   "execution_count": 4,
   "id": "31046573",
   "metadata": {},
   "outputs": [
    {
     "name": "stdout",
     "output_type": "stream",
     "text": [
      "P-value: 0.0294\n",
      "95% Confidence Interval: [31. 49.]\n"
     ]
    },
    {
     "data": {
      "image/png": "[encoded data removed]"
     },
     "metadata": {},
     "output_type": "display_data"
    }
   ],
   "source": [
    "import scipy.stats as stats\n",
    "import plotly.express as px\n",
    "import numpy as np\n",
    "\n",
    "# Parameters\n",
    "n = 80  # total number of students\n",
    "k = 49  # number of correct guesses\n",
    "p_null = 0.5  # probability under the null hypothesis\n",
    "\n",
    "# Set seed for reproducibility\n",
    "np.random.seed(42)\n",
    "\n",
    "# Generate 10,000 samples from a binomial distribution with p=0.5\n",
    "number_of_simulations = 10000\n",
    "simulations = np.random.binomial(n, p_null, number_of_simulations)\n",
    "\n",
    "# Calculate the p-value as the proportion of simulations where the result is >= 49\n",
    "p_value = np.mean(simulations >= k)\n",
    "print(f\"P-value: {p_value}\")\n",
    "\n",
    "# Calculate the 95% confidence interval\n",
    "confidence_interval = np.percentile(simulations, [2.5, 97.5])\n",
    "print(f\"95% Confidence Interval: {confidence_interval}\")\n",
    "\n",
    "# Visualize the distribution with the 95% CI\n",
    "x = np.arange(0, n+1)\n",
    "y = stats.binom.pmf(x, n, p_null)\n",
    "\n",
    "# Create a plot with Plotly\n",
    "fig = px.histogram(simulations, nbins=50, labels={'value':'Number of Correct Guesses'},\n",
    "                   title='Distribution of Correct Guesses under Null Hypothesis (p=0.5)')\n",
    "fig.add_vline(x=k, line_width=3, line_dash=\"dash\", line_color=\"red\", \n",
    "              annotation_text=\"Observed 49 correct guesses\", annotation_position=\"top right\")\n",
    "\n",
    "# Adding the 95% confidence interval lines\n",
    "fig.add_vline(x=confidence_interval[0], line_width=2, line_dash=\"dot\", line_color=\"blue\",\n",
    "              annotation_text=\"2.5th percentile\", annotation_position=\"bottom left\")\n",
    "fig.add_vline(x=confidence_interval[1], line_width=2, line_dash=\"dot\", line_color=\"blue\",\n",
    "              annotation_text=\"97.5th percentile\", annotation_position=\"bottom right\")\n",
    "\n",
    "fig.show(renderer=\"png\")"
   ]
  },
  {
   "cell_type": "markdown",
   "id": "0ee353e3",
   "metadata": {},
   "source": [
    "Question 9\n",
    "\n",
    "Somewhat"
   ]
  },
  {
   "cell_type": "code",
   "execution_count": null,
   "id": "3cbd3080",
   "metadata": {},
   "outputs": [],
   "source": []
  }
 ],
 "metadata": {
  "kernelspec": {
   "display_name": "Python 3 (ipykernel)",
   "language": "python",
   "name": "python3"
  },
  "language_info": {
   "codemirror_mode": {
    "name": "ipython",
    "version": 3
   },
   "file_extension": ".py",
   "mimetype": "text/x-python",
   "name": "python",
   "nbconvert_exporter": "python",
   "pygments_lexer": "ipython3",
   "version": "3.11.6"
  }
 },
 "nbformat": 4,
 "nbformat_minor": 5
}
