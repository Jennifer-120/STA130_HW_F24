{
 "cells": [
  {
   "cell_type": "markdown",
   "id": "7968853d",
   "metadata": {},
   "source": [
    "Analysis 1: Impact of COVID-19 on Social Connections\n",
    "\n",
    "Research Question: Is there a significant difference in the frequency of social interactions among different demographic groups due to COVID 19? A particular population parameter of interest would be the mean frequency of social interactions during and after the pandemic period among each demographic group (age, gender).\n",
    "\n",
    "Variables:\n",
    "Independent variables: frequency of social interactions measured by “CONNECTION” variables in 2021 (during) and 2023 (after)\n",
    "Example: CONNECTION_activities_phone_p3m\n",
    "Dependent variables: demographic factors including age (e.g. 18-24) and gender (female, male, non-binary)\n",
    "Rationale: The independent variables are chosen for examining impact of COVID-19 on social life and the dependent variables help categorize how different segments of the population are impacted.\n",
    "Visualization: Box plots to display the distribution of social interaction frequencies for different demographic groups. Box plots can clearly show the center tendency (median) and spread and are good for displaying dataset for different demographic groups side-by-side.\n",
    "\n",
    "Analysis Method:\n",
    "Given the null hypothesis that there is no difference in the mean frequency of social interactions before and during the pandemic at each age group / gender, bootstrap the difference of sample mean in 2021 and 2023 for each demographic group, calculate the p value to determine whether a significant association between COVID-19 and social interaction frequency is present for this certain demographic group.\n",
    "\n",
    "Hypothesis Example (age groups): \n",
    "A low p-value (e.g., <0.05) would be present in age group 18-24, indicating a significant difference in social interaction frequency, suggesting the pandemic significantly impacted this age group’s social connections. \n",
    "A larger p-value (e.g., >0.05) would be present in age group 42-48, indicating small or no difference in social interaction frequency, suggesting the pandemic did not impact this age group’s social connections. "
   ]
  },
  {
   "cell_type": "markdown",
   "id": "7c42cb8a",
   "metadata": {},
   "source": [
    "Analysis 2: Impact of COVID on mental health\n",
    "\n",
    "Research questions: Does receiving the COVID-19 vaccine have a measurable impact on mental health outcomes? I am interested in knowing the mean which provides a summary measure within the control(un vaccinated) and experimental group (vaccinated). I am also interested in the standard deviation which indicates how wide the impact varies within each group.\n",
    "\n",
    "Variable:\n",
    "Dependent variable: Self-reported mental health status, measured by WELLNESS_self_rated_mental_health (convert into a likert from 1-5, 1 being poor and 5 being excellent)\n",
    "Independent variable: COVID_vaccinated\n",
    "Rationale: Although being a subjective indicator, the self reported mental health status can provide a reflection on some general impact, as we are not assessing based on the occurrence of severe mental health issues. The Independent variable is self explanatory.\n",
    "Visualization: Kernel Density Estimate can help visualize the overall distribution and show whether it follows a normal or skewed distribution, which could help determine if we should do a one sided hypothesis.\n",
    "\n",
    "Analysis Method:\n",
    "Given the null hypothesis that there is no difference in the mean mental health scores between vaccinated and unvaccinated individuals, bootstrap the difference of sample mean, calculate the p value to determine whether a significant association between vaccination and mental health score is present.\n",
    "\n",
    "Hypothesis Example:\n",
    "A low p-value (e.g., <0.05) would be present, indicating a significant difference between vaccinated and unvaccinated individuals, suggesting the vaccine has a significant side effect or positive effect on mental health status.\n"
   ]
  },
  {
   "cell_type": "markdown",
   "id": "0946c889",
   "metadata": {},
   "source": [
    "Analysis 3: Correlation between physical activity and mental health during COVID-19\n",
    "\n",
    "Research question: Is there a correlation between the frequency of social connections and self-reported mental health during the COVID-19 pandemic?\n",
    "\n",
    "Variables:\n",
    "Frequency of social interactions measured by “CONNECTION” variables\n",
    "Example: CONNECTION_activities_phone_p3m\n",
    "Self reported mental health status measured by WELLNESS_self_rated_mental_health\n",
    "Rationale: Social interactions is widely studied in relation to mental health and understanding the correlation between its frequency and self reported mental health scores provides insight in this specific case of COVID pandemic, where social interaction is relatively limited.\n",
    "Visualization: Scatter plot is ideal since we are conducting a correlation study. It allows you to see if the relationship appears to be linear or nonlinear. \n",
    "\n",
    "Analysis Method:\n",
    "Assume a linear relationship between social interaction frequency and mental health scores. Observations should be independent of each other. Set up the model equation: Mental Health score=0+1social interaction frequency+\n",
    "Obtain estimates for 0 and 1, if 1 is positive and statistically significant, then a positive correlation is present and vice versa. We will use a hypothesis test on 1 to determine if the relationship is statistically significant. \n",
    "\n",
    "Hypothesis Example:\n",
    "I hypothesized that there will be a positive correlation between social interaction frequency and mental health rating during Covid 19 due to prior studies results on the topic of social interactions and mental health, with a higher frequency associated with better mental health rating."
   ]
  },
  {
   "cell_type": "code",
   "execution_count": null,
   "id": "3d61b09b",
   "metadata": {},
   "outputs": [],
   "source": []
  }
 ],
 "metadata": {
  "kernelspec": {
   "display_name": "Python 3 (ipykernel)",
   "language": "python",
   "name": "python3"
  },
  "language_info": {
   "codemirror_mode": {
    "name": "ipython",
    "version": 3
   },
   "file_extension": ".py",
   "mimetype": "text/x-python",
   "name": "python",
   "nbconvert_exporter": "python",
   "pygments_lexer": "ipython3",
   "version": "3.11.6"
  }
 },
 "nbformat": 4,
 "nbformat_minor": 5
}
