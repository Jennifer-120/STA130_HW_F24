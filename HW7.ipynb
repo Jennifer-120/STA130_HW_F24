{
 "cells": [
  {
   "cell_type": "markdown",
   "id": "b9d15304",
   "metadata": {},
   "source": [
    "Question 1\n",
    "\n",
    "1.1) Simple linear regression models the relationship between a single independent variable and a dependent variable while multiple linear regression models the relationship between multiple independent variable and a dependent variable. Multiple linear regression can help model the effect of multiple predictors simultaneously. \n",
    "\n",
    "Simple linear regression outcome: β0 +β1 predictor\n",
    "Multiple linear regression outcome: β0 + β1 predictor1 + β2 predictor2...βn predictorn\n",
    "\n",
    "1.2) A continous variable is a numerical variable within a range while an indicator varible is a binary variable in the form of \"0/1\" which represent two distinct categories. \n",
    "\n",
    "Continous variable outcome: β0 +β1 predictorcontinous (β1 represent change in outcome for a oneunit increase in the predictor)\n",
    "Indicator variable outcome: β0 +β1 1(Indicator) (β1 represent change in outcome depending on category)\n",
    "\n",
    "1.3) Simple linear regression: β0 +β1 predictorcontinous\n",
    "Multiple linear regressionL β0 +β1 predictorcontinous + β2 2(Indicator)\n",
    "\n",
    "The indicator variable introduces a parallel shift in the regression line depending on its category.\n",
    "\n",
    "1.4) Outcome: β0 +β1 predictorcontinous1 + β2 2(Indicator) + β3 (predictorcontinous1 * 1(Indicator))\n",
    "\n",
    "The interaction term allows the slope of the continuous predictor to differ based on the category defined by the indicator variable.\n",
    "\n",
    "1.5) Outcome: β0 +β1 1(Category1) + β2 1(Category2) ... βk-1 1(Categoryk-1) (k is the number of categories)\n",
    "\n",
    "Multiple indicator variables are introduced to capture all categories. You would use k−1 indicator variables to represent them, leaving one as a baseline category."
   ]
  },
  {
   "cell_type": "markdown",
   "id": "a9eef772",
   "metadata": {},
   "source": [
    "Question 2\n",
    "\n",
    "Predictor variables: \n",
    "Xtv: TV advertising campaign budget\n",
    "Xonline: Online advertising campaign\n",
    "\n",
    "Outcome: effectiveness of the advertising campaigns measured by amount of sales associated to the marketing strategies\n",
    "\n",
    "Additive Model (without interaction): β0 +β1 (Xtv)+β2 (Xonline) | β0 +β1 1(Xtv = High)+β2 1(Xonline = High) (\"0\"= low and \"1\" = high)\n",
    "Synergistic Model (with interaction): β0 +β1 (Xtv)+β2 (Xonline)+β3 (Xtv * Xonline) | β0 +β1 1(Xtv = High)+β2 1(Xonline = High) + β3 (1(Xtv = High) * 1(Xonline = High)) \n",
    "\n",
    "Outcome explaination: The additive model will produce straightforward outcomes with the effect of both platform adding linearly to the total sales. The synergistic model on the other hand will produce outcomes that change according to the co-dependent interaction between the TV budget and online budget. If there is a significant positive interaction, spending more on both channels simultaneously could amplify effectiveness beyond a simple additive effect.\n"
   ]
  },
  {
   "cell_type": "code",
   "execution_count": 10,
   "id": "be6b1dcf",
   "metadata": {
    "scrolled": false
   },
   "outputs": [
    {
     "name": "stderr",
     "output_type": "stream",
     "text": [
      "/tmp/ipykernel_53/3131936015.py:6: DtypeWarning: Columns (408,1001,1002,1006,1007,1008,1080,1113,1115,1116,1117,1118,1119,1120,1121,1124,1125,1126,1127,1128,1213,1214,1215,1216,1217,1218,1342,1343,1344,1345,1346,1347,1348,1349,1390,1391,1393,1463,1549,1552,1555,1558,1561) have mixed types. Specify dtype option on import or set low_memory=False.\n",
      "  data = pd.read_csv(url).dropna(subset=[\"CONNECTION_meaningful_interactions\", \"DEMO_age\", \"DEMO_gender\"])\n"
     ]
    },
    {
     "name": "stdout",
     "output_type": "stream",
     "text": [
      "                            OLS Regression Results                            \n",
      "==============================================================================\n",
      "Dep. Variable:               DEMO_age   R-squared:                       0.057\n",
      "Model:                            OLS   Adj. R-squared:                  0.054\n",
      "Method:                 Least Squares   F-statistic:                     19.25\n",
      "Date:                Thu, 14 Nov 2024   Prob (F-statistic):           7.58e-35\n",
      "Time:                        21:30:46   Log-Likelihood:                -13354.\n",
      "No. Observations:                3197   AIC:                         2.673e+04\n",
      "Df Residuals:                    3186   BIC:                         2.680e+04\n",
      "Df Model:                          10                                         \n",
      "Covariance Type:            nonrobust                                         \n",
      "======================================================================================================================================\n",
      "                                                                         coef    std err          t      P>|t|      [0.025      0.975]\n",
      "--------------------------------------------------------------------------------------------------------------------------------------\n",
      "Intercept                                                             40.3966      0.710     56.858      0.000      39.004      41.790\n",
      "C(CONNECTION_meaningful_interactions)[T.Many times a day]             -2.9525      1.146     -2.577      0.010      -5.199      -0.706\n",
      "C(CONNECTION_meaningful_interactions)[T.Many times a week]            -6.3379      0.892     -7.106      0.000      -8.087      -4.589\n",
      "C(CONNECTION_meaningful_interactions)[T.Never]                         4.7368      2.348      2.017      0.044       0.133       9.341\n",
      "C(CONNECTION_meaningful_interactions)[T.Once or twice a month]        -5.0048      0.961     -5.207      0.000      -6.890      -3.120\n",
      "C(CONNECTION_meaningful_interactions)[T.Once or twice a week]         -3.6682      0.817     -4.491      0.000      -5.270      -2.067\n",
      "C(CONNECTION_meaningful_interactions)[T.Once or twice a year]         -5.4572      1.613     -3.382      0.001      -8.621      -2.294\n",
      "C(CONNECTION_meaningful_interactions)[T.Presented but no response]    -3.0589      3.165     -0.967      0.334      -9.264       3.146\n",
      "C(DEMO_gender)[T.Non-binary]                                           0.8009      1.989      0.403      0.687      -3.099       4.701\n",
      "C(DEMO_gender)[T.Presented but no response]                           -5.5601     11.183     -0.497      0.619     -27.486      16.366\n",
      "C(DEMO_gender)[T.Woman]                                                6.1110      0.566     10.794      0.000       5.001       7.221\n",
      "==============================================================================\n",
      "Omnibus:                      273.441   Durbin-Watson:                   1.974\n",
      "Prob(Omnibus):                  0.000   Jarque-Bera (JB):              328.663\n",
      "Skew:                           0.766   Prob(JB):                     4.28e-72\n",
      "Kurtosis:                       2.654   Cond. No.                         48.9\n",
      "==============================================================================\n",
      "\n",
      "Notes:\n",
      "[1] Standard Errors assume that the covariance matrix of the errors is correctly specified.\n"
     ]
    }
   ],
   "source": [
    "import pandas as pd\n",
    "import statsmodels.formula.api as smf\n",
    "\n",
    "# Load the dataset\n",
    "url = \"https://raw.githubusercontent.com/pointOfive/stat130chat130/refs/heads/main/CP/CSCS_data_anon.csv\"\n",
    "data = pd.read_csv(url).dropna(subset=[\"CONNECTION_meaningful_interactions\", \"DEMO_age\", \"DEMO_gender\"])\n",
    "\n",
    "# Ensure 'DEMO_age' is treated as numeric and 'DEMO_gender' as a categorical variable\n",
    "data['DEMO_age'] = pd.to_numeric(data['DEMO_age'], errors='coerce')\n",
    "data['DEMO_gender'] = data['DEMO_gender'].astype('category')\n",
    "\n",
    "# Convert CONNECTION_meaningful_interactions to a categorical variable\n",
    "data['CONNECTION_meaningful_interactions'] = data['CONNECTION_meaningful_interactions'].astype('category')\n",
    "\n",
    "# Define the linear model formula\n",
    "linear_model_formula = (\n",
    "    'DEMO_age ~ C(CONNECTION_meaningful_interactions) + C(DEMO_gender)'\n",
    ")\n",
    "\n",
    "# Fit the linear regression model\n",
    "linear_model_fit = smf.ols(formula=linear_model_formula, data=data).fit()\n",
    "\n",
    "# Output the summary of the model\n",
    "print(linear_model_fit.summary())"
   ]
  },
  {
   "cell_type": "markdown",
   "id": "57cba924",
   "metadata": {},
   "source": [
    "Question 4\n",
    "\n",
    "The low R-squared Value (17.6%) and the significant coefficient presents two seemingly contradictory facts. R-squared value measures how much of the variance in the dependent variable (HP) is explained by the model. The coefficient with strong significance and high value suggests that individual predictors have a statistically significant effect on the outcome. The two fact can be valid at the same time and it just means that while variables like \"Sp. Def\" and Generation matters but they cannot fully explain the outcome variable (HP). A significant p-value indicates a real relationship between these predictors and HP, even if the model as a whole isn’t comprehensive.\n",
    "\n",
    "Summary - Multiple Linear Regression Example:\n",
    "\n",
    "You requested code to create a multiple linear regression model using a subset of a dataset from a URL. Specifically, the model was to include the columns: CONNECTION_meaningful_interactions (a categorical variable), DEMO_age, and DEMO_gender (also categorical).\n",
    "I provided a Python example using pandas and statsmodels.formula.api (smf) to fit a multiple linear regression model. The example handled categorical data with C() in the formula, and the model was fitted using the smf.ols() method.\n",
    "Interpreting Regression Output:\n",
    "\n",
    "You presented a scenario involving a multiple linear regression model where the R-squared value was low (17.6%), indicating that the model didn't explain much of the variability in the data. Yet, the coefficients were large and statistically significant.\n",
    "I explained this apparent contradiction by highlighting that R-squared and coefficient significance measure different aspects of the model: R-squared reflects overall model fit, while coefficient significance indicates the strength of the relationship between individual predictors and the outcome. I suggested potential reasons for this situation, like omitted variables or the presence of noise, and clarified why significant coefficients don’t necessarily imply a high R-squared.\n",
    "\n",
    "https://chatgpt.com/share/67369331-eba0-8004-ad15-0b51cd169fc1"
   ]
  },
  {
   "cell_type": "markdown",
   "id": "99f8089d",
   "metadata": {},
   "source": [
    "Question 5\n",
    "\n",
    "The train_test_split function separates training and testing sets for comparing the \"in-sample\" (fitted data) and \"out-of-sample\" (unseen data) performance. Cell 1 introduce a basic model with two predictors, allowing an initial assessment of the relationship between Attack, Defense, and HP. Cell 3 compares \"in-sample\" and \"out-of-sample\" performance to examine the generalizability and fitting of the model. Cell 4 makes to the model more complex by allowing interactions between predictors and check if the model is performing better or experiencing overfitting. Cell 5 evaluates the complex model’s performance to determine whether adding complexity improved the accuracy of the outcomes. If the \"in-sample\" R-squared is high but the \"out-of-sample\" R-squared drops, the model may be overfitted."
   ]
  },
  {
   "cell_type": "markdown",
   "id": "862af20e",
   "metadata": {},
   "source": [
    "Question 6\n",
    "\n",
    "The design matrix in model4 is expanded compared to the design matrix in model3 as it includes extra columns that record the interaction between these predictors while keeping all the individual predictor variables. Multicollinearity is when predictors are too similar or closely related which makes it diffcult to detect which factor is truely impacting the outcome variable. We can check how correlated the columns in the design matrix are to see which predictors are not independent from each other. Centering and scaling can make the model more stable, centering subtracts the average value of each predictor, while scaling divides by its standard deviation. However, they don’t solve the core issue if the model is too complex for the data."
   ]
  },
  {
   "cell_type": "markdown",
   "id": "00350ce3",
   "metadata": {},
   "source": [
    "Question 7\n",
    "\n",
    "Model 5 is more complex compared to model 3 as it introduces more predictors, both categorical and continous. It models the effect of Sp. Def, Sp. Atk, Generation and Type 1/Type 2 in addition to Attack and Defense. Model 6 introduces interaction terms between predictor variables and focuses on significant indicators from the model5 model. Model 6 removes unnecessary variables like defense and adds variables for specific Type 1 categories and Generation. Model 7 further captures the joint influence due to interactions between individual predictors through the use of terms like Attack * Speed * Sp. Def * Sp. Atk. model7_linear_form_CS adds centering and scaling of continuous variables to shift the effect of multicollinearity and improve the stability of the model. In-sample R-squared and Out-of-sample R-squared are calcualted for each model to check for improvements in fitting and generalizability."
   ]
  },
  {
   "cell_type": "code",
   "execution_count": 8,
   "id": "3ce0fe2d",
   "metadata": {},
   "outputs": [
    {
     "data": {
      "application/vnd.plotly.v1+json": {
       "config": {
        "plotlyServerURL": "https://plot.ly"
       },
       "data": [
        {
         "hovertemplate": "In Sample Performance (Rsquared)=%{x}<br>Out of Sample Performance (Rsquared)=%{y}<extra></extra>",
         "legendgroup": "",
         "marker": {
          "color": "#636efa",
          "symbol": "circle"
         },
         "mode": "markers",
         "name": "",
         "orientation": "v",
         "showlegend": false,
         "type": "scatter",
         "x": [
          0.2411451720384168,
          0.24974170179085065,
          0.23721077300382898,
          0.18037759240282392,
          0.18999255538352422,
          0.17597244771923215,
          0.19376728652191333,
          0.23772209920293186,
          0.26038304232568876,
          0.20094430009112585,
          0.3126940608184634,
          0.23724552688386114,
          0.10747797575162421,
          0.16543644681053815,
          0.12237415123677098,
          0.16068287839308404,
          0.14679331212545832,
          0.12457204179940873,
          0.18196531076035827,
          0.1317124780886303,
          0.19476994581685392,
          0.13940829971233037,
          0.12646246311448162,
          0.21552162157247512,
          0.18374755208122007,
          0.14687945073083142,
          0.18953249576025233,
          0.1342215941080106,
          0.14508522226015852,
          0.17270242087117715,
          0.2828471342631038,
          0.19165997757861153,
          0.26006317834949266,
          0.16216927470342513,
          0.17133992340818271,
          0.14146617055501787,
          0.18044083699879176,
          0.13031019881479433,
          0.23355138635178818,
          0.14591574644056116,
          0.1078842257373589,
          0.11364964491385332,
          0.20825270586393463,
          0.19451099328998278,
          0.18569919161743598,
          0.19623158527395468,
          0.1344581664772586,
          0.12681319917951117,
          0.23385655884180767,
          0.22385089460770302,
          0.15330570832999413,
          0.17456067276569742,
          0.27738511529498744,
          0.2708568207961345,
          0.18007487283948365,
          0.12778730148617579,
          0.15450281354504514,
          0.18525989473608329,
          0.10192292442205109,
          0.16839946976997222,
          0.15165131980826518,
          0.27391760220263384,
          0.20549174528410552,
          0.23753735141858967,
          0.23467438495025283,
          0.18264442126930058,
          0.14298324622829273,
          0.2545804955738158,
          0.21377095207987018,
          0.22687511625308054,
          0.19811130483844785,
          0.14394501046062402,
          0.19925831976714037,
          0.17439222181198843,
          0.19174126770819033,
          0.10833562610059588,
          0.20635937602764176,
          0.2245633109695816,
          0.16888486298048844,
          0.12768181664412037,
          0.18185450082829469,
          0.1846005017879342,
          0.2087134865170862,
          0.1738752312681987,
          0.11537144716647729,
          0.1680132649949061,
          0.19072777508052463,
          0.178312653690482,
          0.2518852181832454,
          0.19620358413314243,
          0.19591751465667617,
          0.25573430500976535,
          0.2945037520852227,
          0.17406790867423771,
          0.1371394906965958,
          0.17463244999329453,
          0.12183679586720697,
          0.11423746604917984,
          0.16122334547103656,
          0.16460880477049633
         ],
         "xaxis": "x",
         "y": [
          0.12590595271464297,
          0.1368648907366731,
          0.13688410473509582,
          0.18413015029694801,
          0.18031804951041336,
          0.1856298265775115,
          0.16961949448386943,
          0.12973734563253142,
          0.12832024092634944,
          0.1602084965394494,
          0.10662894944369744,
          0.12854469969527887,
          0.28757039153092245,
          0.20165337689238189,
          0.27356550946119257,
          0.20115895257117664,
          0.21748183474322588,
          0.2676809834361817,
          0.1804134863318165,
          0.24521891688931716,
          0.1656431544219025,
          0.24268319444303477,
          0.25247202562633975,
          0.14905415835493535,
          0.181249256398804,
          0.2144930862837535,
          0.1741598983062382,
          0.25014499350446506,
          0.21574143943552246,
          0.1886205716701547,
          0.11697763899508429,
          0.17274257525215425,
          0.13261566091618562,
          0.1939502240416231,
          0.1954928913060814,
          0.23686422947777813,
          0.18346438436322376,
          0.24817357288254044,
          0.1404030028729201,
          0.22985286895687107,
          0.3071300665967033,
          0.26963867356793825,
          0.1579215506754704,
          0.17088057051195205,
          0.17654227156540703,
          0.16918995104163048,
          0.2455399230602762,
          0.2337889277483411,
          0.1443653054849138,
          0.1430973922407947,
          0.21486378953689278,
          0.18097965100415006,
          0.11429610730685347,
          0.11683497749100011,
          0.181215712973479,
          0.24585467116398732,
          0.20956311667102354,
          0.17916991982467093,
          0.30530588522811125,
          0.19701082698634745,
          0.22132225060701527,
          0.1103476201354629,
          0.15763022681865457,
          0.13610540683480424,
          0.13573717179789557,
          0.181668360110682,
          0.23269658346073988,
          0.11988047131649589,
          0.1553520358174287,
          0.14361777244311816,
          0.16573534403757667,
          0.22433723349584433,
          0.16804102634987172,
          0.1886004358439777,
          0.16978108895574973,
          0.2930712058741209,
          0.15879874086892484,
          0.14527474398630172,
          0.19474942068860218,
          0.25450263027381226,
          0.17190290099421157,
          0.1793266768412093,
          0.15763411004733743,
          0.18363846557721678,
          0.25969947696869866,
          0.20015262621314,
          0.16809880515149714,
          0.18695315626484088,
          0.12467963139742279,
          0.15549740470053777,
          0.1685115491520414,
          0.1276819281196141,
          0.10674220708608079,
          0.1894833434367387,
          0.2358006798891864,
          0.18717941613991473,
          0.2575618259509881,
          0.2772299603026309,
          0.20245723584025307,
          0.19365374297760057
         ],
         "yaxis": "y"
        },
        {
         "line": {
          "shape": "linear"
         },
         "name": "y=x",
         "type": "scatter",
         "x": [
          0,
          1
         ],
         "y": [
          0,
          1
         ]
        }
       ],
       "layout": {
        "legend": {
         "tracegroupgap": 0
        },
        "margin": {
         "t": 60
        },
        "template": {
         "data": {
          "bar": [
           {
            "error_x": {
             "color": "#2a3f5f"
            },
            "error_y": {
             "color": "#2a3f5f"
            },
            "marker": {
             "line": {
              "color": "#E5ECF6",
              "width": 0.5
             },
             "pattern": {
              "fillmode": "overlay",
              "size": 10,
              "solidity": 0.2
             }
            },
            "type": "bar"
           }
          ],
          "barpolar": [
           {
            "marker": {
             "line": {
              "color": "#E5ECF6",
              "width": 0.5
             },
             "pattern": {
              "fillmode": "overlay",
              "size": 10,
              "solidity": 0.2
             }
            },
            "type": "barpolar"
           }
          ],
          "carpet": [
           {
            "aaxis": {
             "endlinecolor": "#2a3f5f",
             "gridcolor": "white",
             "linecolor": "white",
             "minorgridcolor": "white",
             "startlinecolor": "#2a3f5f"
            },
            "baxis": {
             "endlinecolor": "#2a3f5f",
             "gridcolor": "white",
             "linecolor": "white",
             "minorgridcolor": "white",
             "startlinecolor": "#2a3f5f"
            },
            "type": "carpet"
           }
          ],
          "choropleth": [
           {
            "colorbar": {
             "outlinewidth": 0,
             "ticks": ""
            },
            "type": "choropleth"
           }
          ],
          "contour": [
           {
            "colorbar": {
             "outlinewidth": 0,
             "ticks": ""
            },
            "colorscale": [
             [
              0,
              "#0d0887"
             ],
             [
              0.1111111111111111,
              "#46039f"
             ],
             [
              0.2222222222222222,
              "#7201a8"
             ],
             [
              0.3333333333333333,
              "#9c179e"
             ],
             [
              0.4444444444444444,
              "#bd3786"
             ],
             [
              0.5555555555555556,
              "#d8576b"
             ],
             [
              0.6666666666666666,
              "#ed7953"
             ],
             [
              0.7777777777777778,
              "#fb9f3a"
             ],
             [
              0.8888888888888888,
              "#fdca26"
             ],
             [
              1,
              "#f0f921"
             ]
            ],
            "type": "contour"
           }
          ],
          "contourcarpet": [
           {
            "colorbar": {
             "outlinewidth": 0,
             "ticks": ""
            },
            "type": "contourcarpet"
           }
          ],
          "heatmap": [
           {
            "colorbar": {
             "outlinewidth": 0,
             "ticks": ""
            },
            "colorscale": [
             [
              0,
              "#0d0887"
             ],
             [
              0.1111111111111111,
              "#46039f"
             ],
             [
              0.2222222222222222,
              "#7201a8"
             ],
             [
              0.3333333333333333,
              "#9c179e"
             ],
             [
              0.4444444444444444,
              "#bd3786"
             ],
             [
              0.5555555555555556,
              "#d8576b"
             ],
             [
              0.6666666666666666,
              "#ed7953"
             ],
             [
              0.7777777777777778,
              "#fb9f3a"
             ],
             [
              0.8888888888888888,
              "#fdca26"
             ],
             [
              1,
              "#f0f921"
             ]
            ],
            "type": "heatmap"
           }
          ],
          "heatmapgl": [
           {
            "colorbar": {
             "outlinewidth": 0,
             "ticks": ""
            },
            "colorscale": [
             [
              0,
              "#0d0887"
             ],
             [
              0.1111111111111111,
              "#46039f"
             ],
             [
              0.2222222222222222,
              "#7201a8"
             ],
             [
              0.3333333333333333,
              "#9c179e"
             ],
             [
              0.4444444444444444,
              "#bd3786"
             ],
             [
              0.5555555555555556,
              "#d8576b"
             ],
             [
              0.6666666666666666,
              "#ed7953"
             ],
             [
              0.7777777777777778,
              "#fb9f3a"
             ],
             [
              0.8888888888888888,
              "#fdca26"
             ],
             [
              1,
              "#f0f921"
             ]
            ],
            "type": "heatmapgl"
           }
          ],
          "histogram": [
           {
            "marker": {
             "pattern": {
              "fillmode": "overlay",
              "size": 10,
              "solidity": 0.2
             }
            },
            "type": "histogram"
           }
          ],
          "histogram2d": [
           {
            "colorbar": {
             "outlinewidth": 0,
             "ticks": ""
            },
            "colorscale": [
             [
              0,
              "#0d0887"
             ],
             [
              0.1111111111111111,
              "#46039f"
             ],
             [
              0.2222222222222222,
              "#7201a8"
             ],
             [
              0.3333333333333333,
              "#9c179e"
             ],
             [
              0.4444444444444444,
              "#bd3786"
             ],
             [
              0.5555555555555556,
              "#d8576b"
             ],
             [
              0.6666666666666666,
              "#ed7953"
             ],
             [
              0.7777777777777778,
              "#fb9f3a"
             ],
             [
              0.8888888888888888,
              "#fdca26"
             ],
             [
              1,
              "#f0f921"
             ]
            ],
            "type": "histogram2d"
           }
          ],
          "histogram2dcontour": [
           {
            "colorbar": {
             "outlinewidth": 0,
             "ticks": ""
            },
            "colorscale": [
             [
              0,
              "#0d0887"
             ],
             [
              0.1111111111111111,
              "#46039f"
             ],
             [
              0.2222222222222222,
              "#7201a8"
             ],
             [
              0.3333333333333333,
              "#9c179e"
             ],
             [
              0.4444444444444444,
              "#bd3786"
             ],
             [
              0.5555555555555556,
              "#d8576b"
             ],
             [
              0.6666666666666666,
              "#ed7953"
             ],
             [
              0.7777777777777778,
              "#fb9f3a"
             ],
             [
              0.8888888888888888,
              "#fdca26"
             ],
             [
              1,
              "#f0f921"
             ]
            ],
            "type": "histogram2dcontour"
           }
          ],
          "mesh3d": [
           {
            "colorbar": {
             "outlinewidth": 0,
             "ticks": ""
            },
            "type": "mesh3d"
           }
          ],
          "parcoords": [
           {
            "line": {
             "colorbar": {
              "outlinewidth": 0,
              "ticks": ""
             }
            },
            "type": "parcoords"
           }
          ],
          "pie": [
           {
            "automargin": true,
            "type": "pie"
           }
          ],
          "scatter": [
           {
            "fillpattern": {
             "fillmode": "overlay",
             "size": 10,
             "solidity": 0.2
            },
            "type": "scatter"
           }
          ],
          "scatter3d": [
           {
            "line": {
             "colorbar": {
              "outlinewidth": 0,
              "ticks": ""
             }
            },
            "marker": {
             "colorbar": {
              "outlinewidth": 0,
              "ticks": ""
             }
            },
            "type": "scatter3d"
           }
          ],
          "scattercarpet": [
           {
            "marker": {
             "colorbar": {
              "outlinewidth": 0,
              "ticks": ""
             }
            },
            "type": "scattercarpet"
           }
          ],
          "scattergeo": [
           {
            "marker": {
             "colorbar": {
              "outlinewidth": 0,
              "ticks": ""
             }
            },
            "type": "scattergeo"
           }
          ],
          "scattergl": [
           {
            "marker": {
             "colorbar": {
              "outlinewidth": 0,
              "ticks": ""
             }
            },
            "type": "scattergl"
           }
          ],
          "scattermapbox": [
           {
            "marker": {
             "colorbar": {
              "outlinewidth": 0,
              "ticks": ""
             }
            },
            "type": "scattermapbox"
           }
          ],
          "scatterpolar": [
           {
            "marker": {
             "colorbar": {
              "outlinewidth": 0,
              "ticks": ""
             }
            },
            "type": "scatterpolar"
           }
          ],
          "scatterpolargl": [
           {
            "marker": {
             "colorbar": {
              "outlinewidth": 0,
              "ticks": ""
             }
            },
            "type": "scatterpolargl"
           }
          ],
          "scatterternary": [
           {
            "marker": {
             "colorbar": {
              "outlinewidth": 0,
              "ticks": ""
             }
            },
            "type": "scatterternary"
           }
          ],
          "surface": [
           {
            "colorbar": {
             "outlinewidth": 0,
             "ticks": ""
            },
            "colorscale": [
             [
              0,
              "#0d0887"
             ],
             [
              0.1111111111111111,
              "#46039f"
             ],
             [
              0.2222222222222222,
              "#7201a8"
             ],
             [
              0.3333333333333333,
              "#9c179e"
             ],
             [
              0.4444444444444444,
              "#bd3786"
             ],
             [
              0.5555555555555556,
              "#d8576b"
             ],
             [
              0.6666666666666666,
              "#ed7953"
             ],
             [
              0.7777777777777778,
              "#fb9f3a"
             ],
             [
              0.8888888888888888,
              "#fdca26"
             ],
             [
              1,
              "#f0f921"
             ]
            ],
            "type": "surface"
           }
          ],
          "table": [
           {
            "cells": {
             "fill": {
              "color": "#EBF0F8"
             },
             "line": {
              "color": "white"
             }
            },
            "header": {
             "fill": {
              "color": "#C8D4E3"
             },
             "line": {
              "color": "white"
             }
            },
            "type": "table"
           }
          ]
         },
         "layout": {
          "annotationdefaults": {
           "arrowcolor": "#2a3f5f",
           "arrowhead": 0,
           "arrowwidth": 1
          },
          "autotypenumbers": "strict",
          "coloraxis": {
           "colorbar": {
            "outlinewidth": 0,
            "ticks": ""
           }
          },
          "colorscale": {
           "diverging": [
            [
             0,
             "#8e0152"
            ],
            [
             0.1,
             "#c51b7d"
            ],
            [
             0.2,
             "#de77ae"
            ],
            [
             0.3,
             "#f1b6da"
            ],
            [
             0.4,
             "#fde0ef"
            ],
            [
             0.5,
             "#f7f7f7"
            ],
            [
             0.6,
             "#e6f5d0"
            ],
            [
             0.7,
             "#b8e186"
            ],
            [
             0.8,
             "#7fbc41"
            ],
            [
             0.9,
             "#4d9221"
            ],
            [
             1,
             "#276419"
            ]
           ],
           "sequential": [
            [
             0,
             "#0d0887"
            ],
            [
             0.1111111111111111,
             "#46039f"
            ],
            [
             0.2222222222222222,
             "#7201a8"
            ],
            [
             0.3333333333333333,
             "#9c179e"
            ],
            [
             0.4444444444444444,
             "#bd3786"
            ],
            [
             0.5555555555555556,
             "#d8576b"
            ],
            [
             0.6666666666666666,
             "#ed7953"
            ],
            [
             0.7777777777777778,
             "#fb9f3a"
            ],
            [
             0.8888888888888888,
             "#fdca26"
            ],
            [
             1,
             "#f0f921"
            ]
           ],
           "sequentialminus": [
            [
             0,
             "#0d0887"
            ],
            [
             0.1111111111111111,
             "#46039f"
            ],
            [
             0.2222222222222222,
             "#7201a8"
            ],
            [
             0.3333333333333333,
             "#9c179e"
            ],
            [
             0.4444444444444444,
             "#bd3786"
            ],
            [
             0.5555555555555556,
             "#d8576b"
            ],
            [
             0.6666666666666666,
             "#ed7953"
            ],
            [
             0.7777777777777778,
             "#fb9f3a"
            ],
            [
             0.8888888888888888,
             "#fdca26"
            ],
            [
             1,
             "#f0f921"
            ]
           ]
          },
          "colorway": [
           "#636efa",
           "#EF553B",
           "#00cc96",
           "#ab63fa",
           "#FFA15A",
           "#19d3f3",
           "#FF6692",
           "#B6E880",
           "#FF97FF",
           "#FECB52"
          ],
          "font": {
           "color": "#2a3f5f"
          },
          "geo": {
           "bgcolor": "white",
           "lakecolor": "white",
           "landcolor": "#E5ECF6",
           "showlakes": true,
           "showland": true,
           "subunitcolor": "white"
          },
          "hoverlabel": {
           "align": "left"
          },
          "hovermode": "closest",
          "mapbox": {
           "style": "light"
          },
          "paper_bgcolor": "white",
          "plot_bgcolor": "#E5ECF6",
          "polar": {
           "angularaxis": {
            "gridcolor": "white",
            "linecolor": "white",
            "ticks": ""
           },
           "bgcolor": "#E5ECF6",
           "radialaxis": {
            "gridcolor": "white",
            "linecolor": "white",
            "ticks": ""
           }
          },
          "scene": {
           "xaxis": {
            "backgroundcolor": "#E5ECF6",
            "gridcolor": "white",
            "gridwidth": 2,
            "linecolor": "white",
            "showbackground": true,
            "ticks": "",
            "zerolinecolor": "white"
           },
           "yaxis": {
            "backgroundcolor": "#E5ECF6",
            "gridcolor": "white",
            "gridwidth": 2,
            "linecolor": "white",
            "showbackground": true,
            "ticks": "",
            "zerolinecolor": "white"
           },
           "zaxis": {
            "backgroundcolor": "#E5ECF6",
            "gridcolor": "white",
            "gridwidth": 2,
            "linecolor": "white",
            "showbackground": true,
            "ticks": "",
            "zerolinecolor": "white"
           }
          },
          "shapedefaults": {
           "line": {
            "color": "#2a3f5f"
           }
          },
          "ternary": {
           "aaxis": {
            "gridcolor": "white",
            "linecolor": "white",
            "ticks": ""
           },
           "baxis": {
            "gridcolor": "white",
            "linecolor": "white",
            "ticks": ""
           },
           "bgcolor": "#E5ECF6",
           "caxis": {
            "gridcolor": "white",
            "linecolor": "white",
            "ticks": ""
           }
          },
          "title": {
           "x": 0.05
          },
          "xaxis": {
           "automargin": true,
           "gridcolor": "white",
           "linecolor": "white",
           "ticks": "",
           "title": {
            "standoff": 15
           },
           "zerolinecolor": "white",
           "zerolinewidth": 2
          },
          "yaxis": {
           "automargin": true,
           "gridcolor": "white",
           "linecolor": "white",
           "ticks": "",
           "title": {
            "standoff": 15
           },
           "zerolinecolor": "white",
           "zerolinewidth": 2
          }
         }
        },
        "xaxis": {
         "anchor": "y",
         "domain": [
          0,
          1
         ],
         "title": {
          "text": "In Sample Performance (Rsquared)"
         }
        },
        "yaxis": {
         "anchor": "x",
         "domain": [
          0,
          1
         ],
         "title": {
          "text": "Out of Sample Performance (Rsquared)"
         }
        }
       }
      },
      "text/html": [
       "<div>                            <div id=\"823c98b2-db36-403c-924b-0d8e873961ed\" class=\"plotly-graph-div\" style=\"height:525px; width:100%;\"></div>            <script type=\"text/javascript\">                require([\"plotly\"], function(Plotly) {                    window.PLOTLYENV=window.PLOTLYENV || {};                                    if (document.getElementById(\"823c98b2-db36-403c-924b-0d8e873961ed\")) {                    Plotly.newPlot(                        \"823c98b2-db36-403c-924b-0d8e873961ed\",                        [{\"hovertemplate\":\"In Sample Performance (Rsquared)=%{x}\\u003cbr\\u003eOut of Sample Performance (Rsquared)=%{y}\\u003cextra\\u003e\\u003c\\u002fextra\\u003e\",\"legendgroup\":\"\",\"marker\":{\"color\":\"#636efa\",\"symbol\":\"circle\"},\"mode\":\"markers\",\"name\":\"\",\"orientation\":\"v\",\"showlegend\":false,\"x\":[0.2411451720384168,0.24974170179085065,0.23721077300382898,0.18037759240282392,0.18999255538352422,0.17597244771923215,0.19376728652191333,0.23772209920293186,0.26038304232568876,0.20094430009112585,0.3126940608184634,0.23724552688386114,0.10747797575162421,0.16543644681053815,0.12237415123677098,0.16068287839308404,0.14679331212545832,0.12457204179940873,0.18196531076035827,0.1317124780886303,0.19476994581685392,0.13940829971233037,0.12646246311448162,0.21552162157247512,0.18374755208122007,0.14687945073083142,0.18953249576025233,0.1342215941080106,0.14508522226015852,0.17270242087117715,0.2828471342631038,0.19165997757861153,0.26006317834949266,0.16216927470342513,0.17133992340818271,0.14146617055501787,0.18044083699879176,0.13031019881479433,0.23355138635178818,0.14591574644056116,0.1078842257373589,0.11364964491385332,0.20825270586393463,0.19451099328998278,0.18569919161743598,0.19623158527395468,0.1344581664772586,0.12681319917951117,0.23385655884180767,0.22385089460770302,0.15330570832999413,0.17456067276569742,0.27738511529498744,0.2708568207961345,0.18007487283948365,0.12778730148617579,0.15450281354504514,0.18525989473608329,0.10192292442205109,0.16839946976997222,0.15165131980826518,0.27391760220263384,0.20549174528410552,0.23753735141858967,0.23467438495025283,0.18264442126930058,0.14298324622829273,0.2545804955738158,0.21377095207987018,0.22687511625308054,0.19811130483844785,0.14394501046062402,0.19925831976714037,0.17439222181198843,0.19174126770819033,0.10833562610059588,0.20635937602764176,0.2245633109695816,0.16888486298048844,0.12768181664412037,0.18185450082829469,0.1846005017879342,0.2087134865170862,0.1738752312681987,0.11537144716647729,0.1680132649949061,0.19072777508052463,0.178312653690482,0.2518852181832454,0.19620358413314243,0.19591751465667617,0.25573430500976535,0.2945037520852227,0.17406790867423771,0.1371394906965958,0.17463244999329453,0.12183679586720697,0.11423746604917984,0.16122334547103656,0.16460880477049633],\"xaxis\":\"x\",\"y\":[0.12590595271464297,0.1368648907366731,0.13688410473509582,0.18413015029694801,0.18031804951041336,0.1856298265775115,0.16961949448386943,0.12973734563253142,0.12832024092634944,0.1602084965394494,0.10662894944369744,0.12854469969527887,0.28757039153092245,0.20165337689238189,0.27356550946119257,0.20115895257117664,0.21748183474322588,0.2676809834361817,0.1804134863318165,0.24521891688931716,0.1656431544219025,0.24268319444303477,0.25247202562633975,0.14905415835493535,0.181249256398804,0.2144930862837535,0.1741598983062382,0.25014499350446506,0.21574143943552246,0.1886205716701547,0.11697763899508429,0.17274257525215425,0.13261566091618562,0.1939502240416231,0.1954928913060814,0.23686422947777813,0.18346438436322376,0.24817357288254044,0.1404030028729201,0.22985286895687107,0.3071300665967033,0.26963867356793825,0.1579215506754704,0.17088057051195205,0.17654227156540703,0.16918995104163048,0.2455399230602762,0.2337889277483411,0.1443653054849138,0.1430973922407947,0.21486378953689278,0.18097965100415006,0.11429610730685347,0.11683497749100011,0.181215712973479,0.24585467116398732,0.20956311667102354,0.17916991982467093,0.30530588522811125,0.19701082698634745,0.22132225060701527,0.1103476201354629,0.15763022681865457,0.13610540683480424,0.13573717179789557,0.181668360110682,0.23269658346073988,0.11988047131649589,0.1553520358174287,0.14361777244311816,0.16573534403757667,0.22433723349584433,0.16804102634987172,0.1886004358439777,0.16978108895574973,0.2930712058741209,0.15879874086892484,0.14527474398630172,0.19474942068860218,0.25450263027381226,0.17190290099421157,0.1793266768412093,0.15763411004733743,0.18363846557721678,0.25969947696869866,0.20015262621314,0.16809880515149714,0.18695315626484088,0.12467963139742279,0.15549740470053777,0.1685115491520414,0.1276819281196141,0.10674220708608079,0.1894833434367387,0.2358006798891864,0.18717941613991473,0.2575618259509881,0.2772299603026309,0.20245723584025307,0.19365374297760057],\"yaxis\":\"y\",\"type\":\"scatter\"},{\"line\":{\"shape\":\"linear\"},\"name\":\"y=x\",\"x\":[0,1],\"y\":[0,1],\"type\":\"scatter\"}],                        {\"template\":{\"data\":{\"histogram2dcontour\":[{\"type\":\"histogram2dcontour\",\"colorbar\":{\"outlinewidth\":0,\"ticks\":\"\"},\"colorscale\":[[0.0,\"#0d0887\"],[0.1111111111111111,\"#46039f\"],[0.2222222222222222,\"#7201a8\"],[0.3333333333333333,\"#9c179e\"],[0.4444444444444444,\"#bd3786\"],[0.5555555555555556,\"#d8576b\"],[0.6666666666666666,\"#ed7953\"],[0.7777777777777778,\"#fb9f3a\"],[0.8888888888888888,\"#fdca26\"],[1.0,\"#f0f921\"]]}],\"choropleth\":[{\"type\":\"choropleth\",\"colorbar\":{\"outlinewidth\":0,\"ticks\":\"\"}}],\"histogram2d\":[{\"type\":\"histogram2d\",\"colorbar\":{\"outlinewidth\":0,\"ticks\":\"\"},\"colorscale\":[[0.0,\"#0d0887\"],[0.1111111111111111,\"#46039f\"],[0.2222222222222222,\"#7201a8\"],[0.3333333333333333,\"#9c179e\"],[0.4444444444444444,\"#bd3786\"],[0.5555555555555556,\"#d8576b\"],[0.6666666666666666,\"#ed7953\"],[0.7777777777777778,\"#fb9f3a\"],[0.8888888888888888,\"#fdca26\"],[1.0,\"#f0f921\"]]}],\"heatmap\":[{\"type\":\"heatmap\",\"colorbar\":{\"outlinewidth\":0,\"ticks\":\"\"},\"colorscale\":[[0.0,\"#0d0887\"],[0.1111111111111111,\"#46039f\"],[0.2222222222222222,\"#7201a8\"],[0.3333333333333333,\"#9c179e\"],[0.4444444444444444,\"#bd3786\"],[0.5555555555555556,\"#d8576b\"],[0.6666666666666666,\"#ed7953\"],[0.7777777777777778,\"#fb9f3a\"],[0.8888888888888888,\"#fdca26\"],[1.0,\"#f0f921\"]]}],\"heatmapgl\":[{\"type\":\"heatmapgl\",\"colorbar\":{\"outlinewidth\":0,\"ticks\":\"\"},\"colorscale\":[[0.0,\"#0d0887\"],[0.1111111111111111,\"#46039f\"],[0.2222222222222222,\"#7201a8\"],[0.3333333333333333,\"#9c179e\"],[0.4444444444444444,\"#bd3786\"],[0.5555555555555556,\"#d8576b\"],[0.6666666666666666,\"#ed7953\"],[0.7777777777777778,\"#fb9f3a\"],[0.8888888888888888,\"#fdca26\"],[1.0,\"#f0f921\"]]}],\"contourcarpet\":[{\"type\":\"contourcarpet\",\"colorbar\":{\"outlinewidth\":0,\"ticks\":\"\"}}],\"contour\":[{\"type\":\"contour\",\"colorbar\":{\"outlinewidth\":0,\"ticks\":\"\"},\"colorscale\":[[0.0,\"#0d0887\"],[0.1111111111111111,\"#46039f\"],[0.2222222222222222,\"#7201a8\"],[0.3333333333333333,\"#9c179e\"],[0.4444444444444444,\"#bd3786\"],[0.5555555555555556,\"#d8576b\"],[0.6666666666666666,\"#ed7953\"],[0.7777777777777778,\"#fb9f3a\"],[0.8888888888888888,\"#fdca26\"],[1.0,\"#f0f921\"]]}],\"surface\":[{\"type\":\"surface\",\"colorbar\":{\"outlinewidth\":0,\"ticks\":\"\"},\"colorscale\":[[0.0,\"#0d0887\"],[0.1111111111111111,\"#46039f\"],[0.2222222222222222,\"#7201a8\"],[0.3333333333333333,\"#9c179e\"],[0.4444444444444444,\"#bd3786\"],[0.5555555555555556,\"#d8576b\"],[0.6666666666666666,\"#ed7953\"],[0.7777777777777778,\"#fb9f3a\"],[0.8888888888888888,\"#fdca26\"],[1.0,\"#f0f921\"]]}],\"mesh3d\":[{\"type\":\"mesh3d\",\"colorbar\":{\"outlinewidth\":0,\"ticks\":\"\"}}],\"scatter\":[{\"fillpattern\":{\"fillmode\":\"overlay\",\"size\":10,\"solidity\":0.2},\"type\":\"scatter\"}],\"parcoords\":[{\"type\":\"parcoords\",\"line\":{\"colorbar\":{\"outlinewidth\":0,\"ticks\":\"\"}}}],\"scatterpolargl\":[{\"type\":\"scatterpolargl\",\"marker\":{\"colorbar\":{\"outlinewidth\":0,\"ticks\":\"\"}}}],\"bar\":[{\"error_x\":{\"color\":\"#2a3f5f\"},\"error_y\":{\"color\":\"#2a3f5f\"},\"marker\":{\"line\":{\"color\":\"#E5ECF6\",\"width\":0.5},\"pattern\":{\"fillmode\":\"overlay\",\"size\":10,\"solidity\":0.2}},\"type\":\"bar\"}],\"scattergeo\":[{\"type\":\"scattergeo\",\"marker\":{\"colorbar\":{\"outlinewidth\":0,\"ticks\":\"\"}}}],\"scatterpolar\":[{\"type\":\"scatterpolar\",\"marker\":{\"colorbar\":{\"outlinewidth\":0,\"ticks\":\"\"}}}],\"histogram\":[{\"marker\":{\"pattern\":{\"fillmode\":\"overlay\",\"size\":10,\"solidity\":0.2}},\"type\":\"histogram\"}],\"scattergl\":[{\"type\":\"scattergl\",\"marker\":{\"colorbar\":{\"outlinewidth\":0,\"ticks\":\"\"}}}],\"scatter3d\":[{\"type\":\"scatter3d\",\"line\":{\"colorbar\":{\"outlinewidth\":0,\"ticks\":\"\"}},\"marker\":{\"colorbar\":{\"outlinewidth\":0,\"ticks\":\"\"}}}],\"scattermapbox\":[{\"type\":\"scattermapbox\",\"marker\":{\"colorbar\":{\"outlinewidth\":0,\"ticks\":\"\"}}}],\"scatterternary\":[{\"type\":\"scatterternary\",\"marker\":{\"colorbar\":{\"outlinewidth\":0,\"ticks\":\"\"}}}],\"scattercarpet\":[{\"type\":\"scattercarpet\",\"marker\":{\"colorbar\":{\"outlinewidth\":0,\"ticks\":\"\"}}}],\"carpet\":[{\"aaxis\":{\"endlinecolor\":\"#2a3f5f\",\"gridcolor\":\"white\",\"linecolor\":\"white\",\"minorgridcolor\":\"white\",\"startlinecolor\":\"#2a3f5f\"},\"baxis\":{\"endlinecolor\":\"#2a3f5f\",\"gridcolor\":\"white\",\"linecolor\":\"white\",\"minorgridcolor\":\"white\",\"startlinecolor\":\"#2a3f5f\"},\"type\":\"carpet\"}],\"table\":[{\"cells\":{\"fill\":{\"color\":\"#EBF0F8\"},\"line\":{\"color\":\"white\"}},\"header\":{\"fill\":{\"color\":\"#C8D4E3\"},\"line\":{\"color\":\"white\"}},\"type\":\"table\"}],\"barpolar\":[{\"marker\":{\"line\":{\"color\":\"#E5ECF6\",\"width\":0.5},\"pattern\":{\"fillmode\":\"overlay\",\"size\":10,\"solidity\":0.2}},\"type\":\"barpolar\"}],\"pie\":[{\"automargin\":true,\"type\":\"pie\"}]},\"layout\":{\"autotypenumbers\":\"strict\",\"colorway\":[\"#636efa\",\"#EF553B\",\"#00cc96\",\"#ab63fa\",\"#FFA15A\",\"#19d3f3\",\"#FF6692\",\"#B6E880\",\"#FF97FF\",\"#FECB52\"],\"font\":{\"color\":\"#2a3f5f\"},\"hovermode\":\"closest\",\"hoverlabel\":{\"align\":\"left\"},\"paper_bgcolor\":\"white\",\"plot_bgcolor\":\"#E5ECF6\",\"polar\":{\"bgcolor\":\"#E5ECF6\",\"angularaxis\":{\"gridcolor\":\"white\",\"linecolor\":\"white\",\"ticks\":\"\"},\"radialaxis\":{\"gridcolor\":\"white\",\"linecolor\":\"white\",\"ticks\":\"\"}},\"ternary\":{\"bgcolor\":\"#E5ECF6\",\"aaxis\":{\"gridcolor\":\"white\",\"linecolor\":\"white\",\"ticks\":\"\"},\"baxis\":{\"gridcolor\":\"white\",\"linecolor\":\"white\",\"ticks\":\"\"},\"caxis\":{\"gridcolor\":\"white\",\"linecolor\":\"white\",\"ticks\":\"\"}},\"coloraxis\":{\"colorbar\":{\"outlinewidth\":0,\"ticks\":\"\"}},\"colorscale\":{\"sequential\":[[0.0,\"#0d0887\"],[0.1111111111111111,\"#46039f\"],[0.2222222222222222,\"#7201a8\"],[0.3333333333333333,\"#9c179e\"],[0.4444444444444444,\"#bd3786\"],[0.5555555555555556,\"#d8576b\"],[0.6666666666666666,\"#ed7953\"],[0.7777777777777778,\"#fb9f3a\"],[0.8888888888888888,\"#fdca26\"],[1.0,\"#f0f921\"]],\"sequentialminus\":[[0.0,\"#0d0887\"],[0.1111111111111111,\"#46039f\"],[0.2222222222222222,\"#7201a8\"],[0.3333333333333333,\"#9c179e\"],[0.4444444444444444,\"#bd3786\"],[0.5555555555555556,\"#d8576b\"],[0.6666666666666666,\"#ed7953\"],[0.7777777777777778,\"#fb9f3a\"],[0.8888888888888888,\"#fdca26\"],[1.0,\"#f0f921\"]],\"diverging\":[[0,\"#8e0152\"],[0.1,\"#c51b7d\"],[0.2,\"#de77ae\"],[0.3,\"#f1b6da\"],[0.4,\"#fde0ef\"],[0.5,\"#f7f7f7\"],[0.6,\"#e6f5d0\"],[0.7,\"#b8e186\"],[0.8,\"#7fbc41\"],[0.9,\"#4d9221\"],[1,\"#276419\"]]},\"xaxis\":{\"gridcolor\":\"white\",\"linecolor\":\"white\",\"ticks\":\"\",\"title\":{\"standoff\":15},\"zerolinecolor\":\"white\",\"automargin\":true,\"zerolinewidth\":2},\"yaxis\":{\"gridcolor\":\"white\",\"linecolor\":\"white\",\"ticks\":\"\",\"title\":{\"standoff\":15},\"zerolinecolor\":\"white\",\"automargin\":true,\"zerolinewidth\":2},\"scene\":{\"xaxis\":{\"backgroundcolor\":\"#E5ECF6\",\"gridcolor\":\"white\",\"linecolor\":\"white\",\"showbackground\":true,\"ticks\":\"\",\"zerolinecolor\":\"white\",\"gridwidth\":2},\"yaxis\":{\"backgroundcolor\":\"#E5ECF6\",\"gridcolor\":\"white\",\"linecolor\":\"white\",\"showbackground\":true,\"ticks\":\"\",\"zerolinecolor\":\"white\",\"gridwidth\":2},\"zaxis\":{\"backgroundcolor\":\"#E5ECF6\",\"gridcolor\":\"white\",\"linecolor\":\"white\",\"showbackground\":true,\"ticks\":\"\",\"zerolinecolor\":\"white\",\"gridwidth\":2}},\"shapedefaults\":{\"line\":{\"color\":\"#2a3f5f\"}},\"annotationdefaults\":{\"arrowcolor\":\"#2a3f5f\",\"arrowhead\":0,\"arrowwidth\":1},\"geo\":{\"bgcolor\":\"white\",\"landcolor\":\"#E5ECF6\",\"subunitcolor\":\"white\",\"showland\":true,\"showlakes\":true,\"lakecolor\":\"white\"},\"title\":{\"x\":0.05},\"mapbox\":{\"style\":\"light\"}}},\"xaxis\":{\"anchor\":\"y\",\"domain\":[0.0,1.0],\"title\":{\"text\":\"In Sample Performance (Rsquared)\"}},\"yaxis\":{\"anchor\":\"x\",\"domain\":[0.0,1.0],\"title\":{\"text\":\"Out of Sample Performance (Rsquared)\"}},\"legend\":{\"tracegroupgap\":0},\"margin\":{\"t\":60}},                        {\"responsive\": true}                    ).then(function(){\n",
       "                            \n",
       "var gd = document.getElementById('823c98b2-db36-403c-924b-0d8e873961ed');\n",
       "var x = new MutationObserver(function (mutations, observer) {{\n",
       "        var display = window.getComputedStyle(gd).display;\n",
       "        if (!display || display === 'none') {{\n",
       "            console.log([gd, 'removed!']);\n",
       "            Plotly.purge(gd);\n",
       "            observer.disconnect();\n",
       "        }}\n",
       "}});\n",
       "\n",
       "// Listen for the removal of the full notebook cells\n",
       "var notebookContainer = gd.closest('#notebook-container');\n",
       "if (notebookContainer) {{\n",
       "    x.observe(notebookContainer, {childList: true});\n",
       "}}\n",
       "\n",
       "// Listen for the clearing of the current output cell\n",
       "var outputEl = gd.closest('.output');\n",
       "if (outputEl) {{\n",
       "    x.observe(outputEl, {childList: true});\n",
       "}}\n",
       "\n",
       "                        })                };                });            </script>        </div>"
      ]
     },
     "metadata": {},
     "output_type": "display_data"
    }
   ],
   "source": [
    "# Question 8\n",
    "\n",
    "import pandas as pd\n",
    "import numpy as np\n",
    "import statsmodels.formula.api as smf\n",
    "from sklearn.model_selection import train_test_split\n",
    "import plotly.express as px\n",
    "import plotly.graph_objects as go\n",
    "from patsy import center, scale\n",
    "\n",
    "# Load the dataset\n",
    "url = \"https://raw.githubusercontent.com/KeithGalli/pandas/master/pokemon_data.csv\"\n",
    "pokeaman = pd.read_csv(url)\n",
    "\n",
    "# Check the dataset\n",
    "pokeaman.head()\n",
    "\n",
    "# For the purposes of the model, let's assume we're focusing on 'HP', 'Attack', 'Defense', etc.\n",
    "# Let's also ensure we handle any missing values for simplicity\n",
    "pokeaman = pokeaman.dropna(subset=['HP', 'Attack', 'Defense'])\n",
    "\n",
    "# We'll define the number of repetitions (for the repeated train-test split)\n",
    "reps = 100\n",
    "in_sample_Rsquared = np.array([0.0] * reps)\n",
    "out_of_sample_Rsquared = np.array([0.0] * reps)\n",
    "\n",
    "# Loop to create multiple train-test splits and fit the model\n",
    "for i in range(reps):\n",
    "    # Random train-test split (50-50)\n",
    "    pokeaman_train, pokeaman_test = train_test_split(pokeaman, train_size=0.5)\n",
    "    \n",
    "    # Define the linear form with centering and scaling applied to 'Attack' and 'Defense'\n",
    "    model3_linear_form_center_scale = 'HP ~ scale(center(Attack)) + scale(center(Defense))'\n",
    "    \n",
    "    # Fit the model on the training data\n",
    "    model_spec3_center_scale = smf.ols(formula=model3_linear_form_center_scale, data=pokeaman_train)\n",
    "    model3_center_scale_fit = model_spec3_center_scale.fit()\n",
    "    \n",
    "    # In-sample R-squared\n",
    "    in_sample_Rsquared[i] = model3_center_scale_fit.rsquared\n",
    "    \n",
    "    # Out-of-sample R-squared\n",
    "    yhat_model3 = model3_center_scale_fit.predict(pokeaman_test)\n",
    "    out_of_sample_Rsquared[i] = np.corrcoef(pokeaman_test.HP, yhat_model3)[0, 1]**2\n",
    "\n",
    "# Create a DataFrame to store the results\n",
    "df = pd.DataFrame({\n",
    "    \"In Sample Performance (Rsquared)\": in_sample_Rsquared,\n",
    "    \"Out of Sample Performance (Rsquared)\": out_of_sample_Rsquared\n",
    "})\n",
    "\n",
    "# Visualizing the results with a scatter plot\n",
    "fig = px.scatter(df, x=\"In Sample Performance (Rsquared)\", \n",
    "                 y=\"Out of Sample Performance (Rsquared)\")\n",
    "fig.add_trace(go.Scatter(x=[0, 1], y=[0, 1], name=\"y=x\", line_shape='linear'))  # Line for reference\n",
    "fig.show(render=\"png\")\n"
   ]
  },
  {
   "cell_type": "markdown",
   "id": "b02659f2",
   "metadata": {},
   "source": [
    "Question 8 \n",
    "\n",
    "Purpose of the Demonstration: To see how the model's performance changes depending on how the data is split into training and test sets. By repeating the process multiple times with different random splits, we can check how consistently the model works on new data and see if it’s overfitting or underfitting. If the model works well on the training data but poorly on the test data, overfitting is indicated suggesting that it does not generalize well to new data. If the model performs poorly on both, underfitting is indicated suggesting that the model is too simple.\n",
    "\n",
    "Interpretation of result:  Most of the points lie below the reference line y=x, suggesting a generally better result on the training set compared to the test sets. This is likely due to overfitting or inherent variability in the data. Both the in-sample and out-of-sample R-squared values are generally low, which suggests that the used predictors do not explain the outcome variable well or the model is too simple that significant interactions are not captured."
   ]
  },
  {
   "cell_type": "markdown",
   "id": "80e3112b",
   "metadata": {},
   "source": [
    "Question 9\n",
    "\n",
    "Model 7 performs better on the out-of-sample performance but its complexity (interactions terms) could cause overfitting. If the pattern is too specified to the seen data, model could perform poorly in a boarder range. Model 6, on the other hand performs worse on the out-of-sample performance and is less likely to capture all patterns but has fewer interaction terms and more stable coefficients which makes it easier to interpret. Both models do worse when predicting future data, but Model 7’s performance drops more. This shows that complex models can struggle with new, changing data. Simpler models are easier to understand and apply in real-world situations. If the performance difference is small, the simpler, more interpretable model is often the better choice.\n",
    "\n",
    "Summary - Overfitting and Generalization: You shared a task about creating and visualizing multiple paired \"in-sample\" and \"out-of-sample\" model performance metrics, particularly focusing on the concept of overfitting and how to detect it. We discussed code for creating plots using Plotly to visualize the relationship between in-sample and out-of-sample R-squared values across multiple iterations, exploring how model generalizability might change with different model specifications.\n",
    "\n",
    "Code Adjustments: We worked through code adjustments, particularly in applying center and scale transformations using Patsy to address multicollinearity concerns. You shared details of a regression model on Pokémon data (pokeaman) and how these transformations impacted the model's conditioning number, which improved after centering and scaling the data.\n",
    "\n",
    "Model Complexity and Interpretability: We delved into an illustration that contrasted two regression models—one more complex (Model7) and the other simpler (Model6). You explored how Model7, despite its better out-of-sample performance, presented issues due to its complexity, including potential overfitting and challenges with interpretability. Meanwhile, Model6, while underperforming slightly, was favored for its simpler structure and clearer interpretation, making it more generalizable and easier to understand.\n",
    "\n",
    "Sequential Prediction and Generalizability: We discussed how the models' performance could vary when applied to sequential predictions, like predicting data from future generations of Pokémon. The code showed how both models struggled to generalize when used to predict future data, with Model7 exhibiting a more significant drop in out-of-sample performance due to its complexity.\n",
    "\n",
    "Takeaways: We highlighted the trade-off between model complexity, performance, and interpretability. While more complex models may yield better performance in the short term, they might overfit and struggle with real-world applications, where data evolves over time. The simpler model often offers better generalizability and easier interpretation, which can be more valuable, especially when long-term predictions are necessary.\n",
    "\n",
    "https://chatgpt.com/share/67369331-eba0-8004-ad15-0b51cd169fc1"
   ]
  },
  {
   "cell_type": "markdown",
   "id": "c74150a2",
   "metadata": {},
   "source": []
  }
 ],
 "metadata": {
  "kernelspec": {
   "display_name": "Python 3 (ipykernel)",
   "language": "python",
   "name": "python3"
  },
  "language_info": {
   "codemirror_mode": {
    "name": "ipython",
    "version": 3
   },
   "file_extension": ".py",
   "mimetype": "text/x-python",
   "name": "python",
   "nbconvert_exporter": "python",
   "pygments_lexer": "ipython3",
   "version": "3.11.6"
  }
 },
 "nbformat": 4,
 "nbformat_minor": 5
}
